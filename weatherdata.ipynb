import json
import requests

api_key="e09fcc99749d2e3493dfe0fb989df11f"
city="kolhapur"
url=f"https://api.openweathermap.org/data/2.5/weather?q={city}&appid={api_key}"

response=requests.get(url)

if response.status_code ==200:
    data=response.json()
    print(json.dumps(data, indent=5))

    with open("weather_data.json","w")as file:
        json.dump(data,file,indent=5)

else:
    print(f"Error:{response.status_code}")
{
     "coord": {
          "lon": 74.2167,
          "lat": 16.7
     },
     "weather": [
          {
               "id": 804,
               "main": "Clouds",
               "description": "overcast clouds",
               "icon": "04d"
          }
     ],
     "base": "stations",
     "main": {
          "temp": 296.18,
          "feels_like": 296.94,
          "temp_min": 296.18,
          "temp_max": 296.18,
          "pressure": 1010,
          "humidity": 92,
          "sea_level": 1010,
          "grnd_level": 948
     },
     "visibility": 10000,
     "wind": {
          "speed": 6.46,
          "deg": 246,
          "gust": 12.25
     },
     "clouds": {
          "all": 100
     },
     "dt": 1724478629,
     "sys": {
          "country": "IN",
          "sunrise": 1724460524,
          "sunset": 1724505757
     },
     "timezone": 19800,
     "id": 1266285,
     "name": "Kolh\u0101pur",
     "cod": 200
}